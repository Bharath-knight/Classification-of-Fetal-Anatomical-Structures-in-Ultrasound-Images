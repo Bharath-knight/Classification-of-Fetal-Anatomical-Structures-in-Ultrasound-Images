{
  "nbformat": 4,
  "nbformat_minor": 0,
  "metadata": {
    "colab": {
      "provenance": []
    },
    "kernelspec": {
      "name": "python3",
      "display_name": "Python 3"
    },
    "language_info": {
      "name": "python"
    }
  },
  "cells": [
    {
      "cell_type": "code",
      "execution_count": null,
      "metadata": {
        "id": "AUV1bGGI1vT4"
      },
      "outputs": [],
      "source": [
        "seed_value= 123\n",
        "import tensorflow as tf\n",
        "import random as rn\n",
        "import random"
      ]
    },
    {
      "cell_type": "code",
      "source": [
        "import pandas as pd\n",
        "import matplotlib.pyplot as plt\n",
        "import seaborn as sns\n",
        "import numpy as np"
      ],
      "metadata": {
        "id": "8GuuwSciFxvT"
      },
      "execution_count": null,
      "outputs": []
    },
    {
      "cell_type": "code",
      "source": [
        "import tensorflow.keras\n",
        "import tensorflow as tf\n",
        "from tensorflow.keras.models import Model, Sequential, load_model\n",
        "from tensorflow.keras.layers import Dense, Dropout, Flatten ,ZeroPadding2D\n",
        "from tensorflow.keras.layers import Input, Conv2D, MaxPooling2D, Conv3D, MaxPooling3D\n",
        "from tensorflow.keras.layers import BatchNormalization\n",
        "from tensorflow.keras import backend as K\n",
        "from tensorflow.keras.utils import plot_model\n",
        "from tensorflow.keras.initializers import Constant\n",
        "from tensorflow.keras.optimizers import RMSprop\n",
        "from tensorflow.keras.callbacks import ModelCheckpoint, EarlyStopping\n",
        "from scipy import ndimage\n",
        "\n",
        "from tensorflow.keras import layers\n",
        "from tensorflow.keras.optimizers import Adam,Adadelta, Adagrad\n",
        "from tensorflow.keras import models\n",
        "from tensorflow.keras import regularizers\n",
        "\n",
        "from tensorflow.keras.callbacks import EarlyStopping\n",
        "from tensorflow.keras.regularizers import l2\n",
        "\n",
        "from tensorflow.keras import activations\n",
        "from tensorflow.keras import Model\n",
        "\n",
        "from tensorflow.keras.layers import AvgPool2D, MaxPool2D, GlobalAvgPool2D\n",
        "from tensorflow.keras.layers import Add, ReLU, Dense, concatenate\n",
        "\n",
        "from tensorflow.keras.layers import Input, Conv2D, MaxPooling2D, ZeroPadding2D,\\\n",
        "     Flatten, BatchNormalization, AveragePooling2D, Dense, Activation, Add\n",
        "\n",
        "from tensorflow.keras.applications import VGG16,VGG19"
      ],
      "metadata": {
        "id": "rwk9z5VrFznB"
      },
      "execution_count": null,
      "outputs": []
    },
    {
      "cell_type": "code",
      "source": [
        "from keras.models import Model\n",
        "from keras.layers import Dense\n",
        "from keras.utils.np_utils import *\n",
        "from keras.applications.resnet import ResNet50\n",
        "from keras.applications.densenet import DenseNet121,DenseNet169,DenseNet201\n",
        "from keras.applications.resnet import ResNet101, ResNet152\n",
        "from tensorflow.keras.preprocessing.image import ImageDataGenerator, load_img, img_to_array\n",
        "from keras.applications.resnet import preprocess_input\n",
        "from tensorflow.keras.optimizers import SGD\n",
        "import numpy as np\n",
        "import os\n",
        "from keras.callbacks import TensorBoard, ReduceLROnPlateau"
      ],
      "metadata": {
        "id": "tjmBEfs0YLnQ"
      },
      "execution_count": null,
      "outputs": []
    },
    {
      "cell_type": "code",
      "source": [
        "from sklearn.model_selection import LeaveOneOut, GridSearchCV\n",
        "from sklearn.model_selection import KFold,StratifiedKFold\n",
        "\n",
        "from sklearn.model_selection import cross_val_score\n",
        "from sklearn.metrics import accuracy_score\n",
        "\n",
        "from statistics import mean, stdev\n",
        "from sklearn.metrics import confusion_matrix, classification_report, cohen_kappa_score\n"
      ],
      "metadata": {
        "id": "gBOlKSymF4Kl"
      },
      "execution_count": null,
      "outputs": []
    },
    {
      "cell_type": "code",
      "source": [
        "from google.colab import drive\n",
        "drive.mount('/content/drive')"
      ],
      "metadata": {
        "colab": {
          "base_uri": "https://localhost:8080/"
        },
        "id": "TVOraba4F6gz",
        "outputId": "6566b2f8-d1e8-468a-9c9f-ade69e4a7d40"
      },
      "execution_count": null,
      "outputs": [
        {
          "output_type": "stream",
          "name": "stdout",
          "text": [
            "Drive already mounted at /content/drive; to attempt to forcibly remount, call drive.mount(\"/content/drive\", force_remount=True).\n"
          ]
        }
      ]
    },
    {
      "cell_type": "markdown",
      "source": [
        "### Dataset"
      ],
      "metadata": {
        "id": "1CRYw_00KG4g"
      }
    },
    {
      "cell_type": "code",
      "source": [
        "\n",
        "#only T2tra, ADC, Bval\n",
        "label_data =pd.read_csv(\"/content/drive/MyDrive/Colab Notebooks/Origin_Health/image_label.csv\")"
      ],
      "metadata": {
        "id": "Rfv8oIYyF8uL"
      },
      "execution_count": null,
      "outputs": []
    },
    {
      "cell_type": "code",
      "source": [
        "label_data.head(5)"
      ],
      "metadata": {
        "colab": {
          "base_uri": "https://localhost:8080/",
          "height": 206
        },
        "id": "8F5LAFmYGbRC",
        "outputId": "1ca77ac0-82d6-4ecf-c934-29ffffe0dfcb"
      },
      "execution_count": null,
      "outputs": [
        {
          "output_type": "execute_result",
          "data": {
            "text/plain": [
              "                   Image_name        Plane\n",
              "0  Patient01018_Plane3_2_of_3  Fetal brain\n",
              "1  Patient00770_Plane3_2_of_3  Fetal brain\n",
              "2  Patient00853_Plane3_1_of_3  Fetal brain\n",
              "3  Patient01230_Plane3_5_of_5  Fetal brain\n",
              "4  Patient01494_Plane3_3_of_4  Fetal brain"
            ],
            "text/html": [
              "\n",
              "  <div id=\"df-3577abf0-823e-49ee-ab70-96337beeabc8\" class=\"colab-df-container\">\n",
              "    <div>\n",
              "<style scoped>\n",
              "    .dataframe tbody tr th:only-of-type {\n",
              "        vertical-align: middle;\n",
              "    }\n",
              "\n",
              "    .dataframe tbody tr th {\n",
              "        vertical-align: top;\n",
              "    }\n",
              "\n",
              "    .dataframe thead th {\n",
              "        text-align: right;\n",
              "    }\n",
              "</style>\n",
              "<table border=\"1\" class=\"dataframe\">\n",
              "  <thead>\n",
              "    <tr style=\"text-align: right;\">\n",
              "      <th></th>\n",
              "      <th>Image_name</th>\n",
              "      <th>Plane</th>\n",
              "    </tr>\n",
              "  </thead>\n",
              "  <tbody>\n",
              "    <tr>\n",
              "      <th>0</th>\n",
              "      <td>Patient01018_Plane3_2_of_3</td>\n",
              "      <td>Fetal brain</td>\n",
              "    </tr>\n",
              "    <tr>\n",
              "      <th>1</th>\n",
              "      <td>Patient00770_Plane3_2_of_3</td>\n",
              "      <td>Fetal brain</td>\n",
              "    </tr>\n",
              "    <tr>\n",
              "      <th>2</th>\n",
              "      <td>Patient00853_Plane3_1_of_3</td>\n",
              "      <td>Fetal brain</td>\n",
              "    </tr>\n",
              "    <tr>\n",
              "      <th>3</th>\n",
              "      <td>Patient01230_Plane3_5_of_5</td>\n",
              "      <td>Fetal brain</td>\n",
              "    </tr>\n",
              "    <tr>\n",
              "      <th>4</th>\n",
              "      <td>Patient01494_Plane3_3_of_4</td>\n",
              "      <td>Fetal brain</td>\n",
              "    </tr>\n",
              "  </tbody>\n",
              "</table>\n",
              "</div>\n",
              "    <div class=\"colab-df-buttons\">\n",
              "\n",
              "  <div class=\"colab-df-container\">\n",
              "    <button class=\"colab-df-convert\" onclick=\"convertToInteractive('df-3577abf0-823e-49ee-ab70-96337beeabc8')\"\n",
              "            title=\"Convert this dataframe to an interactive table.\"\n",
              "            style=\"display:none;\">\n",
              "\n",
              "  <svg xmlns=\"http://www.w3.org/2000/svg\" height=\"24px\" viewBox=\"0 -960 960 960\">\n",
              "    <path d=\"M120-120v-720h720v720H120Zm60-500h600v-160H180v160Zm220 220h160v-160H400v160Zm0 220h160v-160H400v160ZM180-400h160v-160H180v160Zm440 0h160v-160H620v160ZM180-180h160v-160H180v160Zm440 0h160v-160H620v160Z\"/>\n",
              "  </svg>\n",
              "    </button>\n",
              "\n",
              "  <style>\n",
              "    .colab-df-container {\n",
              "      display:flex;\n",
              "      gap: 12px;\n",
              "    }\n",
              "\n",
              "    .colab-df-convert {\n",
              "      background-color: #E8F0FE;\n",
              "      border: none;\n",
              "      border-radius: 50%;\n",
              "      cursor: pointer;\n",
              "      display: none;\n",
              "      fill: #1967D2;\n",
              "      height: 32px;\n",
              "      padding: 0 0 0 0;\n",
              "      width: 32px;\n",
              "    }\n",
              "\n",
              "    .colab-df-convert:hover {\n",
              "      background-color: #E2EBFA;\n",
              "      box-shadow: 0px 1px 2px rgba(60, 64, 67, 0.3), 0px 1px 3px 1px rgba(60, 64, 67, 0.15);\n",
              "      fill: #174EA6;\n",
              "    }\n",
              "\n",
              "    .colab-df-buttons div {\n",
              "      margin-bottom: 4px;\n",
              "    }\n",
              "\n",
              "    [theme=dark] .colab-df-convert {\n",
              "      background-color: #3B4455;\n",
              "      fill: #D2E3FC;\n",
              "    }\n",
              "\n",
              "    [theme=dark] .colab-df-convert:hover {\n",
              "      background-color: #434B5C;\n",
              "      box-shadow: 0px 1px 3px 1px rgba(0, 0, 0, 0.15);\n",
              "      filter: drop-shadow(0px 1px 2px rgba(0, 0, 0, 0.3));\n",
              "      fill: #FFFFFF;\n",
              "    }\n",
              "  </style>\n",
              "\n",
              "    <script>\n",
              "      const buttonEl =\n",
              "        document.querySelector('#df-3577abf0-823e-49ee-ab70-96337beeabc8 button.colab-df-convert');\n",
              "      buttonEl.style.display =\n",
              "        google.colab.kernel.accessAllowed ? 'block' : 'none';\n",
              "\n",
              "      async function convertToInteractive(key) {\n",
              "        const element = document.querySelector('#df-3577abf0-823e-49ee-ab70-96337beeabc8');\n",
              "        const dataTable =\n",
              "          await google.colab.kernel.invokeFunction('convertToInteractive',\n",
              "                                                    [key], {});\n",
              "        if (!dataTable) return;\n",
              "\n",
              "        const docLinkHtml = 'Like what you see? Visit the ' +\n",
              "          '<a target=\"_blank\" href=https://colab.research.google.com/notebooks/data_table.ipynb>data table notebook</a>'\n",
              "          + ' to learn more about interactive tables.';\n",
              "        element.innerHTML = '';\n",
              "        dataTable['output_type'] = 'display_data';\n",
              "        await google.colab.output.renderOutput(dataTable, element);\n",
              "        const docLink = document.createElement('div');\n",
              "        docLink.innerHTML = docLinkHtml;\n",
              "        element.appendChild(docLink);\n",
              "      }\n",
              "    </script>\n",
              "  </div>\n",
              "\n",
              "\n",
              "<div id=\"df-878d6781-05bc-4b40-9a13-9e7628bcebe3\">\n",
              "  <button class=\"colab-df-quickchart\" onclick=\"quickchart('df-878d6781-05bc-4b40-9a13-9e7628bcebe3')\"\n",
              "            title=\"Suggest charts.\"\n",
              "            style=\"display:none;\">\n",
              "\n",
              "<svg xmlns=\"http://www.w3.org/2000/svg\" height=\"24px\"viewBox=\"0 0 24 24\"\n",
              "     width=\"24px\">\n",
              "    <g>\n",
              "        <path d=\"M19 3H5c-1.1 0-2 .9-2 2v14c0 1.1.9 2 2 2h14c1.1 0 2-.9 2-2V5c0-1.1-.9-2-2-2zM9 17H7v-7h2v7zm4 0h-2V7h2v10zm4 0h-2v-4h2v4z\"/>\n",
              "    </g>\n",
              "</svg>\n",
              "  </button>\n",
              "\n",
              "<style>\n",
              "  .colab-df-quickchart {\n",
              "    background-color: #E8F0FE;\n",
              "    border: none;\n",
              "    border-radius: 50%;\n",
              "    cursor: pointer;\n",
              "    display: none;\n",
              "    fill: #1967D2;\n",
              "    height: 32px;\n",
              "    padding: 0 0 0 0;\n",
              "    width: 32px;\n",
              "  }\n",
              "\n",
              "  .colab-df-quickchart:hover {\n",
              "    background-color: #E2EBFA;\n",
              "    box-shadow: 0px 1px 2px rgba(60, 64, 67, 0.3), 0px 1px 3px 1px rgba(60, 64, 67, 0.15);\n",
              "    fill: #174EA6;\n",
              "  }\n",
              "\n",
              "  [theme=dark] .colab-df-quickchart {\n",
              "    background-color: #3B4455;\n",
              "    fill: #D2E3FC;\n",
              "  }\n",
              "\n",
              "  [theme=dark] .colab-df-quickchart:hover {\n",
              "    background-color: #434B5C;\n",
              "    box-shadow: 0px 1px 3px 1px rgba(0, 0, 0, 0.15);\n",
              "    filter: drop-shadow(0px 1px 2px rgba(0, 0, 0, 0.3));\n",
              "    fill: #FFFFFF;\n",
              "  }\n",
              "</style>\n",
              "\n",
              "  <script>\n",
              "    async function quickchart(key) {\n",
              "      const charts = await google.colab.kernel.invokeFunction(\n",
              "          'suggestCharts', [key], {});\n",
              "    }\n",
              "    (() => {\n",
              "      let quickchartButtonEl =\n",
              "        document.querySelector('#df-878d6781-05bc-4b40-9a13-9e7628bcebe3 button');\n",
              "      quickchartButtonEl.style.display =\n",
              "        google.colab.kernel.accessAllowed ? 'block' : 'none';\n",
              "    })();\n",
              "  </script>\n",
              "</div>\n",
              "\n",
              "    </div>\n",
              "  </div>\n"
            ]
          },
          "metadata": {},
          "execution_count": 8
        }
      ]
    },
    {
      "cell_type": "code",
      "source": [
        "img_dir = '/content/drive/MyDrive/Colab Notebooks/Origin_Health/images'\n",
        "#test_dir = '/content/drive/MyDrive/Colab Notebooks/Origin_Health/External Test images'\n"
      ],
      "metadata": {
        "id": "peXWl1j2Bwux"
      },
      "execution_count": null,
      "outputs": []
    },
    {
      "cell_type": "code",
      "source": [
        "img_list = os.listdir(img_dir)\n",
        "random.shuffle(img_list)\n",
        "#test_img_list = os.listdir(test_dir)"
      ],
      "metadata": {
        "id": "IZkRKtivCetw"
      },
      "execution_count": null,
      "outputs": []
    },
    {
      "cell_type": "code",
      "source": [
        "train_img_names = img_list[0:500] # taking randomly shuffled 500 images from 1646 images to reduce class imbalance\n",
        "val_img_names = img_list[500:700]# 200 images for validation"
      ],
      "metadata": {
        "id": "VUQZM-EAo6ku"
      },
      "execution_count": null,
      "outputs": []
    },
    {
      "cell_type": "markdown",
      "source": [
        "**TEST** Iterating through the test image set to find out if every  test image has  a label image (goota plug this in somewhere in the end for actual testing)"
      ],
      "metadata": {
        "id": "goRKcpVee79b"
      }
    },
    {
      "cell_type": "code",
      "source": [
        "# test_final_names = []\n",
        "# for i in label_data.Image_name:\n",
        "#   for j in test_img_names:\n",
        "#     if i == j.split('.')[0]:\n",
        "#       #print(i)\n",
        "#       #print(j.split('.')[0])\n",
        "#       #print(\"we found a match, adding the image to our new test image set\")\n",
        "#       test_final_names.append(j)\n",
        "# print(test_final_names)\n",
        "# print(len(test_final_names))\n",
        "\n"
      ],
      "metadata": {
        "id": "8lxGUZKDLvM7"
      },
      "execution_count": null,
      "outputs": []
    },
    {
      "cell_type": "markdown",
      "source": [
        "Only 5 fetal Brain images in the test images set have labels, so we go ahead consider those images as our new test set"
      ],
      "metadata": {
        "id": "Wp1BijrAevDi"
      }
    },
    {
      "cell_type": "markdown",
      "source": [
        "### Loading data as array for training and validation sets"
      ],
      "metadata": {
        "id": "Nf4IMHF1DrWy"
      }
    },
    {
      "cell_type": "code",
      "source": [
        "#Loading Training image data\n",
        "def resize_image(image): #Resizing the images\n",
        "  image = tf.image.resize(image, (661, 661))\n",
        "  return image\n",
        "\n",
        "train_imgs = []\n",
        "val_imgs = []\n",
        "\n",
        "for i in range(len(train_img_names)):\n",
        "  train_img = load_img(os.path.join(img_dir, train_img_names[i]))\n",
        "  train_img = img_to_array(train_img)\n",
        "  train_img = resize_image(train_img)\n",
        "  train_imgs.append(tf.convert_to_tensor(train_img))"
      ],
      "metadata": {
        "id": "5AxhDaPbD-5p"
      },
      "execution_count": null,
      "outputs": []
    },
    {
      "cell_type": "code",
      "source": [
        "#Loading validation image data\n",
        "for i in range(len(val_img_names)):\n",
        "  val_img = load_img(os.path.join(img_dir, val_img_names[i]))\n",
        "  val_img = img_to_array(val_img)\n",
        "  val_img = resize_image(val_img)\n",
        "  val_imgs.append(tf.convert_to_tensor(val_img))"
      ],
      "metadata": {
        "id": "1MIUFIFZXpzh"
      },
      "execution_count": null,
      "outputs": []
    },
    {
      "cell_type": "markdown",
      "source": [
        "#Labels:\n",
        "Separate loop for adding train_labels snd validation_labels"
      ],
      "metadata": {
        "id": "VmLOyqu8ENh0"
      }
    },
    {
      "cell_type": "code",
      "source": [
        "train_labels = []\n",
        "val_labels= []\n",
        "#To only add train_labels with train_img in label_data\n",
        "for i in range(len(train_img_names)):\n",
        "  for j in range(len(label_data.Image_name)):\n",
        "    if train_img_names[i].split(\".\")[0] == label_data.Image_name[j]:\n",
        "      train_class = label_data.Plane[i]\n",
        "      train_labels.append(train_class)\n",
        "for i in range(len(val_img_names)):\n",
        "  for j in range(len(label_data.Image_name)):\n",
        "    if val_img_names[i].split(\".\")[0] == label_data.Image_name[j]:\n",
        "      val_class = label_data.Plane[i]\n",
        "      val_labels.append(val_class)"
      ],
      "metadata": {
        "id": "2_1X_imEENTS"
      },
      "execution_count": null,
      "outputs": []
    },
    {
      "cell_type": "code",
      "source": [
        "val_labels"
      ],
      "metadata": {
        "colab": {
          "base_uri": "https://localhost:8080/"
        },
        "id": "Y2zuYWY_RqSb",
        "outputId": "59b6cd94-051a-492f-e462-5f39531f3bda"
      },
      "execution_count": null,
      "outputs": [
        {
          "output_type": "execute_result",
          "data": {
            "text/plain": [
              "['Fetal brain',\n",
              " 'Fetal brain',\n",
              " 'Fetal brain',\n",
              " 'Fetal brain',\n",
              " 'Fetal brain',\n",
              " 'Fetal brain',\n",
              " 'Fetal brain',\n",
              " 'Fetal brain',\n",
              " 'Fetal brain',\n",
              " 'Fetal brain',\n",
              " 'Fetal brain',\n",
              " 'Fetal brain',\n",
              " 'Fetal brain',\n",
              " 'Fetal brain',\n",
              " 'Fetal brain',\n",
              " 'Fetal brain',\n",
              " 'Fetal brain',\n",
              " 'Fetal brain',\n",
              " 'Fetal brain',\n",
              " 'Fetal brain',\n",
              " 'Fetal brain',\n",
              " 'Fetal brain',\n",
              " 'Fetal brain',\n",
              " 'Fetal brain',\n",
              " 'Fetal brain',\n",
              " 'Fetal brain',\n",
              " 'Fetal brain',\n",
              " 'Fetal brain',\n",
              " 'Fetal brain',\n",
              " 'Fetal brain',\n",
              " 'Fetal brain',\n",
              " 'Fetal brain',\n",
              " 'Fetal brain',\n",
              " 'Fetal brain',\n",
              " 'Fetal brain',\n",
              " 'Fetal brain',\n",
              " 'Fetal brain',\n",
              " 'Fetal brain',\n",
              " 'Fetal brain',\n",
              " 'Fetal brain',\n",
              " 'Fetal brain',\n",
              " 'Fetal brain',\n",
              " 'Fetal brain',\n",
              " 'Fetal brain',\n",
              " 'Fetal brain',\n",
              " 'Fetal brain',\n",
              " 'Fetal brain',\n",
              " 'Fetal brain',\n",
              " 'Fetal brain',\n",
              " 'Fetal brain',\n",
              " 'Fetal brain',\n",
              " 'Fetal brain',\n",
              " 'Fetal brain',\n",
              " 'Fetal brain',\n",
              " 'Fetal brain',\n",
              " 'Fetal brain',\n",
              " 'Fetal brain',\n",
              " 'Fetal brain',\n",
              " 'Fetal brain',\n",
              " 'Fetal brain',\n",
              " 'Fetal brain',\n",
              " 'Fetal brain',\n",
              " 'Fetal brain',\n",
              " 'Fetal brain',\n",
              " 'Fetal brain',\n",
              " 'Fetal brain',\n",
              " 'Fetal brain',\n",
              " 'Fetal brain',\n",
              " 'Fetal brain',\n",
              " 'Fetal brain',\n",
              " 'Fetal brain',\n",
              " 'Fetal brain',\n",
              " 'Fetal brain',\n",
              " 'Fetal brain',\n",
              " 'Fetal brain',\n",
              " 'Fetal brain',\n",
              " 'Fetal brain',\n",
              " 'Fetal brain',\n",
              " 'Fetal brain',\n",
              " 'Fetal brain',\n",
              " 'Fetal brain',\n",
              " 'Fetal brain',\n",
              " 'Fetal brain',\n",
              " 'Fetal brain',\n",
              " 'Fetal brain',\n",
              " 'Fetal brain',\n",
              " 'Fetal brain',\n",
              " 'Fetal brain',\n",
              " 'Fetal brain',\n",
              " 'Fetal brain',\n",
              " 'Fetal brain',\n",
              " 'Fetal brain',\n",
              " 'Fetal brain',\n",
              " 'Fetal brain',\n",
              " 'Fetal brain',\n",
              " 'Fetal brain',\n",
              " 'Fetal brain',\n",
              " 'Fetal brain',\n",
              " 'Fetal brain',\n",
              " 'Fetal brain',\n",
              " 'Fetal brain',\n",
              " 'Fetal brain',\n",
              " 'Fetal brain',\n",
              " 'Fetal brain',\n",
              " 'Fetal brain',\n",
              " 'Fetal brain',\n",
              " 'Fetal brain',\n",
              " 'Fetal brain',\n",
              " 'Fetal brain',\n",
              " 'Fetal brain',\n",
              " 'Fetal brain',\n",
              " 'Fetal brain',\n",
              " 'Fetal brain',\n",
              " 'Fetal brain',\n",
              " 'Fetal brain',\n",
              " 'Fetal brain',\n",
              " 'Fetal brain',\n",
              " 'Fetal brain',\n",
              " 'Fetal brain',\n",
              " 'Fetal brain',\n",
              " 'Fetal brain',\n",
              " 'Fetal brain',\n",
              " 'Fetal brain',\n",
              " 'Fetal brain',\n",
              " 'Fetal brain',\n",
              " 'Fetal brain',\n",
              " 'Fetal brain',\n",
              " 'Fetal brain',\n",
              " 'Fetal brain',\n",
              " 'Fetal brain',\n",
              " 'Fetal brain',\n",
              " 'Fetal brain',\n",
              " 'Fetal brain',\n",
              " 'Fetal brain',\n",
              " 'Fetal brain',\n",
              " 'Fetal brain',\n",
              " 'Fetal brain',\n",
              " 'Fetal brain',\n",
              " 'Fetal brain',\n",
              " 'Fetal brain',\n",
              " 'Fetal brain',\n",
              " 'Fetal brain',\n",
              " 'Fetal brain',\n",
              " 'Fetal brain',\n",
              " 'Fetal brain',\n",
              " 'Fetal brain',\n",
              " 'Fetal brain',\n",
              " 'Fetal brain',\n",
              " 'Fetal brain',\n",
              " 'Fetal brain',\n",
              " 'Fetal brain',\n",
              " 'Fetal brain',\n",
              " 'Fetal brain',\n",
              " 'Fetal brain',\n",
              " 'Fetal brain',\n",
              " 'Fetal brain',\n",
              " 'Fetal brain',\n",
              " 'Fetal brain',\n",
              " 'Fetal brain',\n",
              " 'Fetal brain',\n",
              " 'Fetal brain',\n",
              " 'Fetal brain',\n",
              " 'Fetal brain',\n",
              " 'Fetal brain',\n",
              " 'Fetal brain',\n",
              " 'Fetal brain',\n",
              " 'Fetal brain',\n",
              " 'Fetal brain',\n",
              " 'Fetal brain',\n",
              " 'Fetal brain',\n",
              " 'Fetal brain',\n",
              " 'Fetal brain',\n",
              " 'Fetal brain',\n",
              " 'Fetal brain',\n",
              " 'Fetal brain',\n",
              " 'Fetal brain',\n",
              " 'Fetal brain',\n",
              " 'Fetal brain',\n",
              " 'Fetal brain',\n",
              " 'Fetal brain',\n",
              " 'Fetal brain',\n",
              " 'Fetal brain',\n",
              " 'Fetal brain',\n",
              " 'Fetal brain',\n",
              " 'Fetal brain',\n",
              " 'Fetal brain',\n",
              " 'Fetal brain',\n",
              " 'Fetal brain',\n",
              " 'Fetal brain',\n",
              " 'Fetal brain',\n",
              " 'Fetal brain',\n",
              " 'Fetal brain',\n",
              " 'Fetal brain',\n",
              " 'Fetal brain',\n",
              " 'Fetal brain',\n",
              " 'Fetal brain',\n",
              " 'Fetal brain',\n",
              " 'Fetal brain',\n",
              " 'Fetal brain',\n",
              " 'Fetal brain']"
            ]
          },
          "metadata": {},
          "execution_count": 17
        }
      ]
    },
    {
      "cell_type": "markdown",
      "source": [
        "Mapping is a dictionary with each organ string label encoded to integers"
      ],
      "metadata": {
        "id": "-sqlBb_F2z3p"
      }
    },
    {
      "cell_type": "code",
      "source": [
        "organs = ['Fetal brain','Fetal femur','Fetal thorax','Fetal abdomen']\n",
        "mapping = {}\n",
        "for i in range(len(organs)):\n",
        "  mapping[organs[i]] = i\n",
        "print(mapping)\n"
      ],
      "metadata": {
        "id": "0E1QGQBvxvjv",
        "colab": {
          "base_uri": "https://localhost:8080/"
        },
        "outputId": "957bb7c9-6b28-4a15-c1d1-02e7b979e38c"
      },
      "execution_count": null,
      "outputs": [
        {
          "output_type": "stream",
          "name": "stdout",
          "text": [
            "{'Fetal brain': 0, 'Fetal femur': 1, 'Fetal thorax': 2, 'Fetal abdomen': 3}\n"
          ]
        }
      ]
    },
    {
      "cell_type": "code",
      "source": [
        "train_labels[0]"
      ],
      "metadata": {
        "colab": {
          "base_uri": "https://localhost:8080/",
          "height": 36
        },
        "id": "Z06PsUxuewLq",
        "outputId": "aabd1927-a23a-4c6c-d34f-b9f1988a6cf6"
      },
      "execution_count": null,
      "outputs": [
        {
          "output_type": "execute_result",
          "data": {
            "text/plain": [
              "'Fetal brain'"
            ],
            "application/vnd.google.colaboratory.intrinsic+json": {
              "type": "string"
            }
          },
          "metadata": {},
          "execution_count": 19
        }
      ]
    },
    {
      "cell_type": "code",
      "source": [
        "for i in range(len(train_labels)):\n",
        "  train_labels[i] = mapping[train_labels[i]]\n",
        "print(train_labels)\n"
      ],
      "metadata": {
        "colab": {
          "base_uri": "https://localhost:8080/"
        },
        "id": "rz7DpRw_Vw1n",
        "outputId": "c44d17c5-8e50-4de6-d73a-5149a3f5498f"
      },
      "execution_count": null,
      "outputs": [
        {
          "output_type": "stream",
          "name": "stdout",
          "text": [
            "[0, 0, 0, 0, 0, 0, 0, 0, 0, 0, 0, 0, 0, 0, 0, 0, 0, 0, 0, 0, 0, 0, 0, 0, 0, 0, 0, 0, 0, 0, 0, 0, 0, 0, 0, 0, 0, 0, 0, 0, 0, 0, 0, 0, 0, 0, 0, 0, 0, 0, 0, 0, 0, 0, 0, 0, 0, 0, 0, 0, 0, 0, 0, 0, 0, 0, 0, 0, 0, 0, 0, 0, 0, 0, 0, 0, 0, 0, 0, 0, 0, 0, 0, 0, 0, 0, 0, 0, 0, 0, 0, 0, 0, 0, 0, 0, 0, 0, 0, 0, 0, 0, 0, 0, 0, 0, 0, 0, 0, 0, 0, 0, 0, 0, 0, 0, 0, 0, 0, 0, 0, 0, 0, 0, 0, 0, 0, 0, 0, 0, 0, 0, 0, 0, 0, 0, 0, 0, 0, 0, 0, 0, 0, 0, 0, 0, 0, 0, 0, 0, 0, 0, 0, 0, 0, 0, 0, 0, 0, 0, 0, 0, 0, 0, 0, 0, 0, 0, 0, 0, 0, 0, 0, 0, 0, 0, 0, 0, 0, 0, 0, 0, 0, 0, 0, 0, 0, 0, 0, 0, 0, 0, 0, 0, 0, 0, 0, 0, 0, 0, 0, 0, 0, 0, 0, 0, 0, 0, 0, 0, 0, 0, 0, 0, 0, 0, 0, 0, 0, 0, 0, 0, 0, 0, 0, 0, 0, 0, 0, 0, 0, 0, 0, 0, 0, 0, 0, 0, 0, 0, 0, 0, 0, 0, 0, 0, 0, 0, 0, 0, 0, 0, 0, 0, 0, 0, 0, 0, 0, 0, 0, 0, 0, 0, 0, 0, 0, 0, 0, 0, 0, 0, 0, 0, 0, 0, 0, 0, 0, 0, 0, 0, 0, 0, 0, 0, 0, 0, 0, 0, 0, 0, 0, 0, 0, 0, 0, 0, 0, 0, 0, 0, 0, 0, 0, 0, 0, 0, 0, 0, 0, 0, 0, 0, 0, 0, 0, 0, 0, 0, 0, 0, 0, 0, 0, 0, 0, 0, 0, 0, 0, 0, 0, 0, 0, 0, 0, 0, 0, 0, 0, 0, 0, 0, 0, 0, 0, 0, 0, 0, 0, 0, 0, 0, 0, 0, 0, 0, 0, 0, 0, 0, 0, 0, 0, 0, 0, 0, 0, 0, 0, 0, 0, 0, 0, 0, 0, 0, 0, 0, 0, 0, 0, 0, 0, 0, 0, 0, 0, 0, 0, 0, 0, 0, 0, 0, 0, 0, 0, 0, 0, 0, 0, 0, 0, 0, 0, 0, 0, 0, 0, 0, 0, 0, 0, 0, 0, 0, 0, 0, 0, 0, 0, 0, 0, 0, 0, 0, 0, 0, 0, 0, 0, 0, 0, 0, 0, 0, 0, 0, 0, 0, 0, 0, 0, 0, 0, 0, 0, 0, 0, 0, 0, 0, 0, 0, 0, 0, 0, 0, 0, 0, 0, 0, 0, 0, 0, 0, 0, 0, 0, 0, 0, 0, 0, 0, 0, 0, 0, 0, 0, 0, 0, 0, 0, 0, 0, 0, 0, 0, 0, 0, 0, 0, 0, 0, 0, 0, 0, 0]\n"
          ]
        }
      ]
    },
    {
      "cell_type": "code",
      "source": [
        "for i in range(len(val_labels)):\n",
        "  val_labels[i] = mapping[val_labels[i]]\n"
      ],
      "metadata": {
        "id": "2MmYIA0Ufp6j"
      },
      "execution_count": null,
      "outputs": []
    },
    {
      "cell_type": "code",
      "source": [
        "print(val_labels)"
      ],
      "metadata": {
        "id": "chmgBiaMJ95O",
        "colab": {
          "base_uri": "https://localhost:8080/"
        },
        "outputId": "164c4798-8607-4d8b-a339-cc10b1e5e485"
      },
      "execution_count": null,
      "outputs": [
        {
          "output_type": "stream",
          "name": "stdout",
          "text": [
            "[0, 0, 0, 0, 0, 0, 0, 0, 0, 0, 0, 0, 0, 0, 0, 0, 0, 0, 0, 0, 0, 0, 0, 0, 0, 0, 0, 0, 0, 0, 0, 0, 0, 0, 0, 0, 0, 0, 0, 0, 0, 0, 0, 0, 0, 0, 0, 0, 0, 0, 0, 0, 0, 0, 0, 0, 0, 0, 0, 0, 0, 0, 0, 0, 0, 0, 0, 0, 0, 0, 0, 0, 0, 0, 0, 0, 0, 0, 0, 0, 0, 0, 0, 0, 0, 0, 0, 0, 0, 0, 0, 0, 0, 0, 0, 0, 0, 0, 0, 0, 0, 0, 0, 0, 0, 0, 0, 0, 0, 0, 0, 0, 0, 0, 0, 0, 0, 0, 0, 0, 0, 0, 0, 0, 0, 0, 0, 0, 0, 0, 0, 0, 0, 0, 0, 0, 0, 0, 0, 0, 0, 0, 0, 0, 0, 0, 0, 0, 0, 0, 0, 0, 0, 0, 0, 0, 0, 0, 0, 0, 0, 0, 0, 0, 0, 0, 0, 0, 0, 0, 0, 0, 0, 0, 0, 0, 0, 0, 0, 0, 0, 0, 0, 0, 0, 0, 0, 0, 0, 0, 0, 0, 0, 0, 0, 0, 0, 0, 0, 0]\n"
          ]
        }
      ]
    },
    {
      "cell_type": "code",
      "source": [
        "train_labels = to_categorical(train_labels, 6)\n",
        "val_labels = to_categorical(val_labels, 6)"
      ],
      "metadata": {
        "id": "SRAQ0tvHV__2"
      },
      "execution_count": null,
      "outputs": []
    },
    {
      "cell_type": "code",
      "source": [
        "print(train_labels)"
      ],
      "metadata": {
        "colab": {
          "base_uri": "https://localhost:8080/"
        },
        "id": "5dJhiqdTf_ZJ",
        "outputId": "f04d09e5-22cd-4ed9-9da6-e68b2f8fe091"
      },
      "execution_count": null,
      "outputs": [
        {
          "output_type": "stream",
          "name": "stdout",
          "text": [
            "[[1. 0. 0. 0. 0. 0.]\n",
            " [1. 0. 0. 0. 0. 0.]\n",
            " [1. 0. 0. 0. 0. 0.]\n",
            " ...\n",
            " [1. 0. 0. 0. 0. 0.]\n",
            " [1. 0. 0. 0. 0. 0.]\n",
            " [1. 0. 0. 0. 0. 0.]]\n"
          ]
        }
      ]
    },
    {
      "cell_type": "code",
      "source": [
        "print(val_labels)"
      ],
      "metadata": {
        "colab": {
          "base_uri": "https://localhost:8080/"
        },
        "id": "CuNKqoXYgGK9",
        "outputId": "8136c376-fc73-4efb-dc43-8041db4360a7"
      },
      "execution_count": null,
      "outputs": [
        {
          "output_type": "stream",
          "name": "stdout",
          "text": [
            "[[1. 0. 0. 0. 0. 0.]\n",
            " [1. 0. 0. 0. 0. 0.]\n",
            " [1. 0. 0. 0. 0. 0.]\n",
            " ...\n",
            " [1. 0. 0. 0. 0. 0.]\n",
            " [1. 0. 0. 0. 0. 0.]\n",
            " [1. 0. 0. 0. 0. 0.]]\n"
          ]
        }
      ]
    },
    {
      "cell_type": "markdown",
      "source": [
        "Now we have labels as One-Hot vectors"
      ],
      "metadata": {
        "id": "Cv40Oy8PgOBQ"
      }
    },
    {
      "cell_type": "markdown",
      "source": [
        "I'm going with an SGD optimizer"
      ],
      "metadata": {
        "id": "y9abPhnMGDt5"
      }
    },
    {
      "cell_type": "code",
      "source": [
        "epochs = 10\n",
        "learning_rate = 0.01\n",
        "decay_rate = 0\n",
        "momentum = 0.9\n",
        "\n",
        "from tensorflow.keras.optimizers.legacy import SGD\n",
        "\n",
        "sgd = SGD(lr=learning_rate, momentum=momentum, decay=decay_rate, nesterov=False)"
      ],
      "metadata": {
        "id": "19atx2DyFxiT"
      },
      "execution_count": null,
      "outputs": []
    },
    {
      "cell_type": "code",
      "source": [
        "# Learning Rate Scheduler\n",
        "reduce_lr = ReduceLROnPlateau(monitor='val_loss', factor=0.2,\n",
        "                              patience=3, min_lr=0)\n"
      ],
      "metadata": {
        "id": "z6XeBcVn1Lbh"
      },
      "execution_count": null,
      "outputs": []
    },
    {
      "cell_type": "markdown",
      "source": [
        "I have defined Train and Val data Generator sued to generate batches of images"
      ],
      "metadata": {
        "id": "gHsfxf9vcRJ7"
      }
    },
    {
      "cell_type": "markdown",
      "source": [
        "Trying to input batch by batch using train_generator and validation_generator, now lets try datagen.from_tensor_slices"
      ],
      "metadata": {
        "id": "0Thb7dYHdOmx"
      }
    },
    {
      "cell_type": "code",
      "source": [
        "# train_generator = train_datagen.flow(train_imgs, train_labels, batch_size=batch_size)\n",
        "# image_numbers = len(train_imgs)\n",
        "\n",
        "# validation_generator = test_datagen.flow(test_imgs, test_labels, batch_size=batch_size)"
      ],
      "metadata": {
        "id": "leInzSyD_GEM"
      },
      "execution_count": null,
      "outputs": []
    },
    {
      "cell_type": "code",
      "source": [
        "train_loader = tf.data.Dataset.from_tensor_slices((train_imgs, train_labels))"
      ],
      "metadata": {
        "id": "11PL71kmJCjj"
      },
      "execution_count": null,
      "outputs": []
    },
    {
      "cell_type": "code",
      "source": [
        "val_loader = tf.data.Dataset.from_tensor_slices((val_imgs, val_labels))\n"
      ],
      "metadata": {
        "id": "YQSi0KovK6UH"
      },
      "execution_count": null,
      "outputs": []
    },
    {
      "cell_type": "code",
      "source": [
        "batch_size = 8\n",
        "# Augment the images on the fly during training.\n",
        "train_dataset = (\n",
        "    train_loader.shuffle(len(train_imgs))\n",
        "    .batch(batch_size)\n",
        "    .prefetch(2)\n",
        "    )\n",
        "# Only rescale.\n",
        "val_dataset = (\n",
        "    val_loader.shuffle(len(val_imgs))\n",
        "    .batch(batch_size)\n",
        "    .prefetch(2)\n",
        ")"
      ],
      "metadata": {
        "id": "vsz_tuZpVoKL"
      },
      "execution_count": null,
      "outputs": []
    },
    {
      "cell_type": "markdown",
      "source": [
        "###\n",
        "Visualize the Ultrasound image"
      ],
      "metadata": {
        "id": "Jgr8wKImWJQ1"
      }
    },
    {
      "cell_type": "code",
      "source": [
        "## Later please"
      ],
      "metadata": {
        "id": "jfotMhd7V_EA"
      },
      "execution_count": null,
      "outputs": []
    },
    {
      "cell_type": "code",
      "source": [
        "base_model = ResNet50(include_top=False, weights='imagenet', pooling='avg')"
      ],
      "metadata": {
        "id": "1g7q5W3AWuwM"
      },
      "execution_count": null,
      "outputs": []
    },
    {
      "cell_type": "code",
      "source": [
        "predictions = Dense(4, activation='softmax')(base_model.output)"
      ],
      "metadata": {
        "id": "ZUfct6jgWV8-"
      },
      "execution_count": null,
      "outputs": []
    },
    {
      "cell_type": "code",
      "source": [
        "model = Model(inputs=base_model.input, outputs=predictions)"
      ],
      "metadata": {
        "id": "lk66pajEXGez"
      },
      "execution_count": null,
      "outputs": []
    },
    {
      "cell_type": "code",
      "source": [
        "model.compile(optimizer=sgd, loss='categorical_crossentropy', metrics=['acc'])"
      ],
      "metadata": {
        "id": "y8wMBZMVXPnA"
      },
      "execution_count": null,
      "outputs": []
    },
    {
      "cell_type": "code",
      "source": [
        "image_numbers = len(train_imgs)\n",
        "history = model.fit_generator(train_dataset, steps_per_epoch=10,\n",
        "                                epochs=epochs,\n",
        "                                validation_data=val_dataset,\n",
        "                                validation_steps=batch_size,\n",
        "                                )"
      ],
      "metadata": {
        "colab": {
          "base_uri": "https://localhost:8080/"
        },
        "id": "z-gdiJhoXUUs",
        "outputId": "522e54b6-c6e9-4366-bad4-4b4622f5565f"
      },
      "execution_count": null,
      "outputs": [
        {
          "output_type": "stream",
          "name": "stdout",
          "text": [
            "Epoch 1/10\n"
          ]
        },
        {
          "output_type": "stream",
          "name": "stderr",
          "text": [
            "<ipython-input-55-748b4d261693>:2: UserWarning: `Model.fit_generator` is deprecated and will be removed in a future version. Please use `Model.fit`, which supports generators.\n",
            "  history = model.fit_generator(train_dataset, steps_per_epoch=10,\n"
          ]
        },
        {
          "output_type": "stream",
          "name": "stdout",
          "text": [
            "10/10 [==============================] - 5s 396ms/step - loss: 0.0000e+00 - acc: 1.0000 - val_loss: 0.0000e+00 - val_acc: 1.0000\n",
            "Epoch 2/10\n",
            "10/10 [==============================] - 3s 353ms/step - loss: 0.0000e+00 - acc: 1.0000 - val_loss: 0.0000e+00 - val_acc: 1.0000\n",
            "Epoch 3/10\n",
            "10/10 [==============================] - 3s 311ms/step - loss: 0.0000e+00 - acc: 1.0000 - val_loss: 0.0000e+00 - val_acc: 1.0000\n",
            "Epoch 4/10\n",
            "10/10 [==============================] - 3s 311ms/step - loss: 0.0000e+00 - acc: 1.0000 - val_loss: 0.0000e+00 - val_acc: 1.0000\n",
            "Epoch 5/10\n",
            "10/10 [==============================] - 3s 354ms/step - loss: 0.0000e+00 - acc: 1.0000 - val_loss: 0.0000e+00 - val_acc: 1.0000\n",
            "Epoch 6/10\n",
            "10/10 [==============================] - 3s 310ms/step - loss: 0.0000e+00 - acc: 1.0000 - val_loss: 0.0000e+00 - val_acc: 1.0000\n",
            "Epoch 7/10\n",
            " 3/10 [========>.....................] - ETA: 1s - loss: 0.0000e+00 - acc: 1.0000"
          ]
        },
        {
          "output_type": "stream",
          "name": "stderr",
          "text": [
            "WARNING:tensorflow:Your input ran out of data; interrupting training. Make sure that your dataset or generator can generate at least `steps_per_epoch * epochs` batches (in this case, 100 batches). You may need to use the repeat() function when building your dataset.\n"
          ]
        },
        {
          "output_type": "stream",
          "name": "stdout",
          "text": [
            "\b\b\b\b\b\b\b\b\b\b\b\b\b\b\b\b\b\b\b\b\b\b\b\b\b\b\b\b\b\b\b\b\b\b\b\b\b\b\b\b\b\b\b\b\b\b\b\b\b\b\b\b\b\b\b\b\b\b\b\b\b\b\b\b\b\b\b\b\b\b\b\b\b\b\b\b\b\b\b\b\b\r10/10 [==============================] - 1s 130ms/step - loss: 0.0000e+00 - acc: 1.0000 - val_loss: 0.0000e+00 - val_acc: 1.0000\n"
          ]
        }
      ]
    },
    {
      "cell_type": "code",
      "source": [
        "save_dir = '/content/drive/MyDrive/Colab Notebooks/Origin_Health/results'\n",
        "\n",
        "if not os.path.exists(save_dir):\n",
        "  os.makedirs(save_dir)\n",
        "model.save_weights(os.path.join(save_dir, 'Resnet50_weights_10_epoch.h5'))\n",
        "\n",
        "history_dict = history.history\n",
        "\n",
        "loss = history.history['loss']\n",
        "np_loss = np.array(loss)\n",
        "np.savetxt(os.path.join(save_dir,'train_loss_10_epoch.txt'), np_loss, fmt='%.3f')\n",
        "\n",
        "val_loss = history.history['val_loss']\n",
        "np_val_loss = np.array(val_loss)\n",
        "np.savetxt(os.path.join(save_dir,'val_loss_10_epoch.txt'), np_val_loss, fmt='%.3f')\n",
        "\n",
        "accy = history.history['acc']\n",
        "np_accy = np.array(accy)\n",
        "np.savetxt(os.path.join(save_dir, 'train_acc_10_epoch.txt'), np_accy, fmt='%.3f')\n",
        "\n",
        "val_accy = history.history['val_acc']\n",
        "np_val_accy = np.array(accy)\n",
        "np.savetxt(os.path.join(save_dir, 'val_acc_10_epoch.txt'), np_val_accy, fmt='%.3f')\n"
      ],
      "metadata": {
        "id": "Gwl6L_vBXZj8"
      },
      "execution_count": null,
      "outputs": []
    },
    {
      "cell_type": "code",
      "source": [],
      "metadata": {
        "id": "4xbg_GKYW5vV"
      },
      "execution_count": null,
      "outputs": []
    }
  ]
}